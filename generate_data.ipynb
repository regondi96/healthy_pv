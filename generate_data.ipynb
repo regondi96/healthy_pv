{
  "nbformat": 4,
  "nbformat_minor": 0,
  "metadata": {
    "colab": {
      "name": "generate_data",
      "version": "0.3.2",
      "provenance": [],
      "collapsed_sections": [],
      "include_colab_link": true
    },
    "kernelspec": {
      "name": "python3",
      "display_name": "Python 3"
    },
    "accelerator": "GPU"
  },
  "cells": [
    {
      "cell_type": "markdown",
      "metadata": {
        "id": "view-in-github",
        "colab_type": "text"
      },
      "source": [
        "<a href=\"https://colab.research.google.com/github/regondi96/healthy_pv/blob/master/generate_data.ipynb\" target=\"_parent\"><img src=\"https://colab.research.google.com/assets/colab-badge.svg\" alt=\"Open In Colab\"/></a>"
      ]
    },
    {
      "cell_type": "code",
      "metadata": {
        "id": "5ZlXGBa2BWJd",
        "colab_type": "code",
        "colab": {}
      },
      "source": [
        "import numpy as np\n",
        "from google.colab import files\n",
        "import matplotlib.pyplot as plt\n",
        "import pandas as pd"
      ],
      "execution_count": 0,
      "outputs": []
    },
    {
      "cell_type": "code",
      "metadata": {
        "id": "8Udz31MCGv2s",
        "colab_type": "code",
        "colab": {}
      },
      "source": [
        "#Get raw data from GitHub\n",
        "url = 'https://raw.githubusercontent.com/regondi96/healthy_pv/master/parameters.csv'\n",
        "#Create the dataframe from url data\n",
        "df_1 = pd.read_csv(url)"
      ],
      "execution_count": 0,
      "outputs": []
    },
    {
      "cell_type": "code",
      "metadata": {
        "id": "JCNKfDJPAH9z",
        "colab_type": "code",
        "outputId": "f16fc301-0d42-46d6-ffab-07ee3655d049",
        "colab": {
          "base_uri": "https://localhost:8080/",
          "height": 34
        }
      },
      "source": [
        "#Convert the dataframe to array\n",
        "array_1 = df_1.values\n",
        "array_1.shape"
      ],
      "execution_count": 0,
      "outputs": [
        {
          "output_type": "execute_result",
          "data": {
            "text/plain": [
              "(329, 2)"
            ]
          },
          "metadata": {
            "tags": []
          },
          "execution_count": 3
        }
      ]
    },
    {
      "cell_type": "code",
      "metadata": {
        "id": "tDCN-1jI9prM",
        "colab_type": "code",
        "colab": {}
      },
      "source": [
        "#Create the generate function\n",
        "def generate_data(radiation):\n",
        "  \n",
        "  \"This function create the Intesity data\"\n",
        "  \"for a new dataframe\"\n",
        "  \n",
        "  Ind = array_1[:,1]\n",
        "  Volt = array_1[:,0]\n",
        "  return ((radiation * Ind)/ Volt)"
      ],
      "execution_count": 0,
      "outputs": []
    },
    {
      "cell_type": "code",
      "metadata": {
        "id": "uOb45I_PIwp_",
        "colab_type": "code",
        "outputId": "87d25c3b-34ec-4e6e-e1cd-e6ef61527388",
        "colab": {
          "base_uri": "https://localhost:8080/",
          "height": 34
        }
      },
      "source": [
        "#Introduce the radiation (W/m^2)\n",
        "rad = float(input(\"What is the actual radiation: \"))"
      ],
      "execution_count": 0,
      "outputs": [
        {
          "output_type": "stream",
          "text": [
            "What is the actual radiation: 687\n"
          ],
          "name": "stdout"
        }
      ]
    },
    {
      "cell_type": "code",
      "metadata": {
        "id": "flN8iSuqjx3N",
        "colab_type": "code",
        "colab": {}
      },
      "source": [
        "#Create a new dataframe with the output values\n",
        "output = generate_data(rad)\n",
        "string_rad = str(int(rad))\n",
        "df_2 = df_1\n",
        "df_2.insert(2, \"Int\" + string_rad, output)\n",
        "df_2.drop(\"Index\", axis=1, inplace= True)"
      ],
      "execution_count": 0,
      "outputs": []
    },
    {
      "cell_type": "code",
      "metadata": {
        "id": "qHNbhtN-oCVi",
        "colab_type": "code",
        "colab": {}
      },
      "source": [
        "#Download the new dataframe\n",
        "df_2.to_csv('Curve IV '+string_rad+'.csv', index=False)\n",
        "files.download('Curve IV '+string_rad+'.csv')"
      ],
      "execution_count": 0,
      "outputs": []
    }
  ]
}